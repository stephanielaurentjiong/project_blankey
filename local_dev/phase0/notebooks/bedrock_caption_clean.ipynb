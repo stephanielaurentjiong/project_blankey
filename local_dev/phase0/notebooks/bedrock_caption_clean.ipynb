{
  "cells": [
    {
      "cell_type": "markdown",
      "metadata": {},
      "source": [
        "# Phase 0 — Bedrock Claude 3.5 Sonnet Caption Generator\n",
        "\n",
        "This notebook generates a concise caption from an image using AWS Bedrock (Anthropic Claude 3.5 Sonnet).\n",
        "- Set up AWS credential using aws configure in bash\n",
        "\n"
      ]
    },
    {
      "cell_type": "code",
      "execution_count": 5,
      "metadata": {},
      "outputs": [],
      "source": [
        "# %pip install -q boto3 botocore\n",
        "\n",
        "import os\n",
        "import json\n",
        "import base64\n",
        "import mimetypes\n",
        "from pathlib import Path\n",
        "\n",
        "import boto3\n",
        "\n"
      ]
    },
    {
      "cell_type": "code",
      "execution_count": null,
      "metadata": {},
      "outputs": [],
      "source": [
        "MODEL_ID = \"us.anthropic.claude-3-5-sonnet-20241022-v2:0\"\n",
        "PROMPT_FILE = \"phase0/prompts/caption_generation_prompt.txt\"  \n",
        "IMAGE_PATH = \"video_cover1.jpg\" \n",
        "VIDEO_DESCRIPTION = \"我和我的柴犬宝宝训练的搞笑视频，我先演示一遍动作，柴犬就跟着做一遍动作，比如坐，趴下，打滚。\"\n",
        "MAX_TOKENS = 1024\n",
        "TEMPERATURE = 1\n",
        "PRINT_PAYLOAD = True\n",
        "DRY_RUN = False\n"
      ]
    },
    {
      "cell_type": "code",
      "execution_count": 4,
      "metadata": {},
      "outputs": [
        {
          "name": "stdout",
          "output_type": "stream",
          "text": [
            "Text Message in Prompt Loaded:\n",
            "\n",
            "<Role>\n",
            "You are an expert social media manager designing creative captions.\n",
            "</Role>\n",
            "\n",
            "<Input>\n",
            "Video Cover: An image for the video cover. This is what the audience will see in their home page. \n",
            "Video Description: Below is a description of what the video is about:\n",
            "我和我的柴犬宝宝训练的搞笑视频，我先演示一遍动作，柴犬就跟着做一遍动作，比如坐，趴下，打滚。\n",
            "</Input>\n",
            "\n",
            "<Task>\n",
            "- Respond in the same language as main language used in Video Description, if not provided, use English. \n",
            "- Step 1: Carefully analyze the input Video Cover and Video Description to understand the key message or highlight of the video, then summarize the selling point we should leverage to attract audience.\n",
            "- Step 2: Identify 3 different video title stype for the video, ex: humor, emotional, cute.\n",
            "- Step 3: For each style from Step 2, generate ONE concise, catchy video title under a soft limit of 20 characters. Make engaging, natural, and suitable for social media, along with the Video Cover it should attract audience to click and engage.\n",
            "</Task>\n",
            "\n",
            "<Output>\n",
            "- Return ONLY strict JSON with this schema: \n",
            "{\n",
            "  \"selling_point\": \"string (one-sentence summary of the video's main hook)\",\n",
            "  \"captions\": [\n",
            "    {\n",
            "      \"style\": \"string (the caption style, e.g. humor, ironic, emotional, etc.)\",\n",
            "      \"caption\": \"string (the catchy caption text, max 20 characters)\"\n",
            "    },\n",
            "    {\n",
            "      \"style\": \"string\",\n",
            "      \"caption\": \"string\"\n",
            "    },\n",
            "    {\n",
            "      \"style\": \"string\",\n",
            "      \"caption\": \"string\"\n",
            "    }\n",
            "  ]\n",
            "}\n",
            "\n",
            "- No backticks, no code fences, no explanations, nothing before or after the JSON.\n",
            "</Output>\n",
            "\n"
          ]
        }
      ],
      "source": [
        "prompt_path = \"../prompts/caption_generation_prompt.txt\"\n",
        "\n",
        "with open(prompt_path, \"r\", encoding=\"utf-8\") as f:\n",
        "    prompt_template = f.read()\n",
        "\n",
        "filled_prompt = prompt_template.replace(\"{video_description}\", VIDEO_DESCRIPTION)\n",
        "print(\"Text Message in Prompt Loaded:\\n\")\n",
        "print(filled_prompt)\n"
      ]
    },
    {
      "cell_type": "code",
      "execution_count": 9,
      "metadata": {},
      "outputs": [
        {
          "name": "stdout",
          "output_type": "stream",
          "text": [
            "Using image: /Users/dennis/Desktop/Project Blankey/project_blankey/phase0/samples/video_cover1.jpg\n",
            "{\n",
            "  \"anthropic_version\": \"bedrock-2023-05-31\",\n",
            "  \"max_tokens\": 1024,\n",
            "  \"temperature\": 1,\n",
            "  \"messages\": [\n",
            "    {\n",
            "      \"role\": \"user\",\n",
            "      \"content\": [\n",
            "        {\n",
            "          \"type\": \"image\",\n",
            "          \"source\": {\n",
            "            \"type\": \"base64\",\n",
            "            \"media_type\": \"image/jpeg\",\n",
            "            \"data\": \"/9j/4AAQSkZJRgABAQAAAQABAAD/2wBDAAgFBgcGBQgHBgcJCAgJDBMMDAsLDBgREg4THBgdHRsYGxofIywlHyEqIRobJjQnKi4vMTIxHiU2OjYwOiwwMTD/2wBDAQgJCQwKDBcMDBcwIBsgMDAwMDAwMDAwMDAwMDAwMDAwMDAwMDAwMDAwMDAwMDAwMDAwMDAwMDAwMDAwMDAwMDD/wAARCASQBJIDASIAAhEBAxEB/8QAHwAAAQUBAQEBAQEAAAAAAAAAAAECAwQFBgcICQoL/8QAtRAAAgEDAwIEAwUFBAQAAAF9AQIDAAQRBRIhMUEGE1FhByJxFDKBkaEII0KxwRVS0fAkM2JyggkKFhcYGRolJicoKSo0NTY3ODk6Q0RFRkdISUpTVFVWV1hZWmNkZWZnaGlqc3R1dnd4eXqDhIWGh4iJipKTlJWWl5iZmqKjpKWmp6ipqrKztLW2t7i5usLDxMXGx8jJytLT1NXW19jZ2u\n"
          ]
        }
      ],
      "source": [
        "# Prepare image and build payload\n",
        "# base working directory\n",
        "cwd = Path.cwd() \n",
        "# IMAGE_PATH relative to repo\n",
        "image_candidates = [\n",
        "    cwd / IMAGE_PATH,                           # relative to current working dir\n",
        "    cwd.parent / \"samples\" / IMAGE_PATH,       # up one level, then into samples/\n",
        "    Path(\"phase0\") / \"samples\" / IMAGE_PATH,   # relative from repo root\n",
        "]\n",
        "# IMAGE_PATH relative to repo\n",
        "image_candidates = [\n",
        "    cwd / IMAGE_PATH,                           # relative to current working dir\n",
        "    cwd.parent / \"samples\" / IMAGE_PATH,       # up one level, then into samples/\n",
        "    Path(\"phase0\") / \"samples\" / IMAGE_PATH,   # relative from repo root\n",
        "]\n",
        "\n",
        "resolved_image = None\n",
        "for img in image_candidates:\n",
        "    if img.is_file():\n",
        "        resolved_image = img\n",
        "        break\n",
        "\n",
        "assert resolved_image is not None, f\"Image not found: {IMAGE_PATH} (checked: {image_candidates})\"\n",
        "\n",
        "# Read and encode image\n",
        "with open(resolved_image, \"rb\") as f:\n",
        "    image_b64 = base64.b64encode(f.read()).decode(\"utf-8\")\n",
        "\n",
        "mime, _ = mimetypes.guess_type(resolved_image)\n",
        "image_mime = mime or \"application/octet-stream\"\n",
        "\n",
        "\n",
        "payload = {\n",
        "    \"anthropic_version\": \"bedrock-2023-05-31\",\n",
        "    \"max_tokens\": MAX_TOKENS,\n",
        "    \"temperature\": TEMPERATURE,\n",
        "    \"messages\": [\n",
        "        {\n",
        "            \"role\": \"user\",\n",
        "            \"content\": [\n",
        "                {\n",
        "                    \"type\": \"image\",\n",
        "                    \"source\": {\n",
        "                        \"type\": \"base64\",\n",
        "                        \"media_type\": image_mime,\n",
        "                        \"data\": image_b64,\n",
        "                    },\n",
        "                },\n",
        "                {\"type\": \"text\", \"text\": filled_prompt},\n",
        "            ],\n",
        "        }\n",
        "    ],\n",
        "}\n",
        "\n",
        "if PRINT_PAYLOAD:\n",
        "    print(\"Using image:\", resolved_image)\n",
        "    print(json.dumps(payload, indent=2)[:800])\n"
      ]
    },
    {
      "cell_type": "code",
      "execution_count": 10,
      "metadata": {},
      "outputs": [
        {
          "name": "stdout",
          "output_type": "stream",
          "text": [
            "{\n",
            "  \"selling_point\": \"柴犬和主人一起做趴下训练的可爱互动瞬间\",\n",
            "  \"captions\": [\n",
            "    {\n",
            "      \"style\": \"搞笑\",\n",
            "      \"caption\": \"柴犬：这动作我也会！\"\n",
            "    },\n",
            "    {\n",
            "      \"style\": \"温馨\",\n",
            "      \"caption\": \"和柴宝宝的训练时光\"\n",
            "    },\n",
            "    {\n",
            "      \"style\": \"趣味\",\n",
            "      \"caption\": \"主人趴下柴柴跟着趴\"\n",
            "    }\n",
            "  ]\n",
            "}\n"
          ]
        }
      ],
      "source": [
        "# Create Bedrock client and invoke\n",
        "if not DRY_RUN:\n",
        "    bedrock = boto3.client(\"bedrock-runtime\", region_name='us-east-2')\n",
        "    resp = bedrock.invoke_model(modelId=MODEL_ID, body=json.dumps(payload))\n",
        "    raw = resp.get(\"body\")\n",
        "    text = raw.read().decode(\"utf-8\") if hasattr(raw, \"read\") else str(raw)\n",
        "\n",
        "    response_json = json.loads(text)\n",
        "    print(response_json['content'][0]['text'])\n",
        "   \n",
        "else:\n",
        "    print(\"[dry-run] Skipping Bedrock invocation.\")\n"
      ]
    }
  ],
  "metadata": {
    "kernelspec": {
      "display_name": "venv",
      "language": "python",
      "name": "python3"
    },
    "language_info": {
      "codemirror_mode": {
        "name": "ipython",
        "version": 3
      },
      "file_extension": ".py",
      "mimetype": "text/x-python",
      "name": "python",
      "nbconvert_exporter": "python",
      "pygments_lexer": "ipython3",
      "version": "3.12.4"
    }
  },
  "nbformat": 4,
  "nbformat_minor": 2
}
