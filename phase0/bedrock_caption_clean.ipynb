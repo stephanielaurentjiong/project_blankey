{
  "cells": [
    {
      "cell_type": "markdown",
      "metadata": {},
      "source": [
        "# Phase 0 — Bedrock Claude 3.5 Sonnet Caption Generator\n",
        "\n",
        "This notebook generates a concise caption from an image using AWS Bedrock (Anthropic Claude 3.5 Sonnet).\n",
        "- Set up AWS credential using aws configure in bash\n",
        "\n"
      ]
    },
    {
      "cell_type": "code",
      "execution_count": 1,
      "metadata": {},
      "outputs": [],
      "source": [
        "# %pip install -q boto3 botocore\n",
        "\n",
        "import os\n",
        "import json\n",
        "import base64\n",
        "import mimetypes\n",
        "\n",
        "import boto3\n",
        "\n"
      ]
    },
    {
      "cell_type": "code",
      "execution_count": 16,
      "metadata": {},
      "outputs": [],
      "source": [
        "MODEL_ID = \"us.anthropic.claude-3-5-sonnet-20241022-v2:0\"\n",
        "PROMPT_FILE = \"phase0/prompts/caption_generation_prompt.txt\"  \n",
        "IMAGE_PATH = \"video_cover1.jpg\" \n",
        "VIDEO_DESCRIPTION = \"我和我的柴犬宝宝训练的搞笑视频，我做一遍动作，宝宝跟着做一遍动作，强调她会学我很聪明。\"\n",
        "MAX_TOKENS = 128\n",
        "TEMPERATURE = 0.5\n",
        "PRINT_PAYLOAD = True\n",
        "DRY_RUN = False\n"
      ]
    },
    {
      "cell_type": "code",
      "execution_count": 10,
      "metadata": {},
      "outputs": [
        {
          "name": "stdout",
          "output_type": "stream",
          "text": [
            "Text Messgae in Prompt Loaded:\n",
            "\n",
            "<Role>\n",
            "You are an expert social media manager designing creative captions.\n",
            "</Role>\n",
            "\n",
            "<Input>\n",
            "Video Cover: An image for the video cover. This is what the audience will see in their home page. \n",
            "Video Description: Below is a description of what the video is about:\n",
            "我和我的柴犬宝宝训练的搞笑视频，我做一遍动作，宝宝跟着做一遍动作，强调她会学我很聪明。\n",
            "</Input>\n",
            "\n",
            "<Task>\n",
            "- Carefully analyze the input Video Cover and Video Description to understand the key message of the video, potential selling point that would attract audience.\n",
            "- Generate ONE concise, catchy caption under a soft limit of 20 characters, in the same language as main language used in Video Description. \n",
            "- Make caption engaging, natural, and suitable for social media, along with the Video Cover it should attract audience to click and engage.\n",
            "</Task>\n",
            "\n",
            "<Output>\n",
            "- Return ONLY strict JSON with this schema: {\"caption\": string}\n",
            "- No backticks, no code fences, no explanations, nothing before or after the JSON.\n",
            "</Output>\n",
            "\n"
          ]
        }
      ],
      "source": [
        "# Read prompt and substitute placeholder (robust path resolution)\n",
        "resolved_prompt = PROMPT_FILE\n",
        "if not os.path.isfile(resolved_prompt):\n",
        "    candidates = [\n",
        "        \"prompts/caption_generation_prompt.txt\",  # when running from phase0/\n",
        "        \"phase0/prompts/caption_generation_prompt.txt\",  # when running from repo root\n",
        "        os.path.join(\"..\", \"phase0\", \"prompts\", \"caption_generation_prompt.txt\"),\n",
        "    ]\n",
        "    for c in candidates:\n",
        "        if os.path.isfile(c):\n",
        "            resolved_prompt = c\n",
        "            break\n",
        "\n",
        "with open(resolved_prompt, \"r\", encoding=\"utf-8\") as f:\n",
        "    prompt_template = f.read()\n",
        "\n",
        "filled_prompt = prompt_template.replace(\"{video_description}\", VIDEO_DESCRIPTION)\n",
        "print(f\"Text Messgae in Prompt Loaded:\\n\")\n",
        "print(filled_prompt)\n"
      ]
    },
    {
      "cell_type": "code",
      "execution_count": 12,
      "metadata": {},
      "outputs": [
        {
          "name": "stdout",
          "output_type": "stream",
          "text": [
            "Using image: ../video_cover1.jpg\n",
            "{\n",
            "  \"anthropic_version\": \"bedrock-2023-05-31\",\n",
            "  \"max_tokens\": 128,\n",
            "  \"temperature\": 0.5,\n",
            "  \"messages\": [\n",
            "    {\n",
            "      \"role\": \"user\",\n",
            "      \"content\": [\n",
            "        {\n",
            "          \"type\": \"image\",\n",
            "          \"source\": {\n",
            "            \"type\": \"base64\",\n",
            "            \"media_type\": \"image/jpeg\",\n",
            "            \"data\": \"/9j/4AAQSkZJRgABAQAAAQABAAD/2wBDAAgFBgcGBQgHBgcJCAgJDBMMDAsLDBgREg4THBgdHRsYGxofIywlHyEqIRobJjQnKi4vMTIxHiU2OjYwOiwwMTD/2wBDAQgJCQwKDBcMDBcwIBsgMDAwMDAwMDAwMDAwMDAwMDAwMDAwMDAwMDAwMDAwMDAwMDAwMDAwMDAwMDAwMDAwMDD/wAARCASQBJIDASIAAhEBAxEB/8QAHwAAAQUBAQEBAQEAAAAAAAAAAAECAwQFBgcICQoL/8QAtRAAAgEDAwIEAwUFBAQAAAF9AQIDAAQRBRIhMUEGE1FhByJxFDKBkaEII0KxwRVS0fAkM2JyggkKFhcYGRolJicoKSo0NTY3ODk6Q0RFRkdISUpTVFVWV1hZWmNkZWZnaGlqc3R1dnd4eXqDhIWGh4iJipKTlJWWl5iZmqKjpKWmp6ipqrKztLW2t7i5usLDxMXGx8jJytLT1NXW19jZ2\n"
          ]
        }
      ],
      "source": [
        "# Prepare image and build payload (robust path resolution)\n",
        "resolved_image = IMAGE_PATH\n",
        "if not os.path.isfile(resolved_image):\n",
        "    candidates = [\n",
        "        IMAGE_PATH,\n",
        "        os.path.join(\"..\", \"video_cover1.jpg\"),            # if running from phase0/\n",
        "        os.path.join(\"phase0\", \"video_cover1.jpg\"),         # if running from repo root\n",
        "    ]\n",
        "    for c in candidates:\n",
        "        if os.path.isfile(c):\n",
        "            resolved_image = c\n",
        "            break\n",
        "\n",
        "assert os.path.isfile(resolved_image), f\"Image not found: {IMAGE_PATH} (checked also: {candidates})\"\n",
        "\n",
        "with open(resolved_image, \"rb\") as f:\n",
        "    image_b64 = base64.b64encode(f.read()).decode(\"utf-8\")\n",
        "\n",
        "mime, _ = mimetypes.guess_type(resolved_image)\n",
        "image_mime = mime or \"application/octet-stream\"\n",
        "\n",
        "payload = {\n",
        "    \"anthropic_version\": \"bedrock-2023-05-31\",\n",
        "    \"max_tokens\": MAX_TOKENS,\n",
        "    \"temperature\": TEMPERATURE,\n",
        "    \"messages\": [\n",
        "        {\n",
        "            \"role\": \"user\",\n",
        "            \"content\": [\n",
        "                {\n",
        "                    \"type\": \"image\",\n",
        "                    \"source\": {\n",
        "                        \"type\": \"base64\",\n",
        "                        \"media_type\": image_mime,\n",
        "                        \"data\": image_b64,\n",
        "                    },\n",
        "                },\n",
        "                {\"type\": \"text\", \"text\": filled_prompt},\n",
        "            ],\n",
        "        }\n",
        "    ],\n",
        "}\n",
        "\n",
        "if PRINT_PAYLOAD:\n",
        "    print(\"Using image:\", resolved_image)\n",
        "    print(json.dumps(payload, indent=2)[:800])\n"
      ]
    },
    {
      "cell_type": "code",
      "execution_count": 17,
      "metadata": {},
      "outputs": [
        {
          "name": "stdout",
          "output_type": "stream",
          "text": [
            "柴犬跟我一起健身\n"
          ]
        }
      ],
      "source": [
        "# Create Bedrock client and invoke\n",
        "if not DRY_RUN:\n",
        "    bedrock = boto3.client(\"bedrock-runtime\")\n",
        "    resp = bedrock.invoke_model(modelId=MODEL_ID, body=json.dumps(payload))\n",
        "    raw = resp.get(\"body\")\n",
        "    text = raw.read().decode(\"utf-8\") if hasattr(raw, \"read\") else str(raw)\n",
        "    response_json = json.loads(text)\n",
        "\n",
        "    content = response_json.get(\"content\", [])\n",
        "    combined = \"\"\n",
        "    for item in content:\n",
        "        if isinstance(item, dict) and item.get(\"type\") in {\"text\", \"output_text\"}:\n",
        "            combined += item.get(\"text\", \"\")\n",
        "    if not combined:\n",
        "        combined = response_json.get(\"output_text\", \"\")\n",
        "    combined = combined.strip()\n",
        "\n",
        "    try:\n",
        "        parsed = json.loads(combined)\n",
        "        print(parsed.get(\"caption\", combined))\n",
        "    except json.JSONDecodeError:\n",
        "        print(combined)\n",
        "else:\n",
        "    print(\"[dry-run] Skipping Bedrock invocation.\")\n"
      ]
    }
  ],
  "metadata": {
    "kernelspec": {
      "display_name": "venv",
      "language": "python",
      "name": "python3"
    },
    "language_info": {
      "codemirror_mode": {
        "name": "ipython",
        "version": 3
      },
      "file_extension": ".py",
      "mimetype": "text/x-python",
      "name": "python",
      "nbconvert_exporter": "python",
      "pygments_lexer": "ipython3",
      "version": "3.12.4"
    }
  },
  "nbformat": 4,
  "nbformat_minor": 2
}
