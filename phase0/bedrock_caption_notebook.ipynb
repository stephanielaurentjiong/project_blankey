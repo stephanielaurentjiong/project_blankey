{
  "cells": [
    {
      "cell_type": "markdown",
      "metadata": {},
      "source": [
        "# Phase 0 — Bedrock Claude 3.5 Sonnet Caption Generator\n",
        "\n",
        "\n"
      ]
    },
    {
      "cell_type": "code",
      "execution_count": 1,
      "metadata": {},
      "outputs": [],
      "source": [
        "# %pip install -q boto3 botocore\n",
        "\n",
        "import os\n",
        "import json\n",
        "import base64\n",
        "import mimetypes\n",
        "from dataclasses import dataclass\n",
        "from typing import Optional\n",
        "from pathlib import Path\n",
        "\n",
        "import boto3\n",
        "from botocore.exceptions import BotoCoreError, ClientError\n"
      ]
    },
    {
      "cell_type": "code",
      "execution_count": 2,
      "metadata": {},
      "outputs": [],
      "source": [
        "MODEL_ID = \"anthropic.claude-3-5-sonnet-20240620-v1:0\"\n",
        "\n",
        "\n",
        "def repo_root_from_notebook() -> Path:\n",
        "    # Assumes notebook sits in <repo>/phase0/*.ipynb\n",
        "    here = Path.cwd()\n",
        "    # Try to find a parent containing project marker file (README.md)\n",
        "    for p in [here, *here.parents]:\n",
        "        if (p / \"README.md\").is_file() and (p / \"phase0\").is_dir():\n",
        "            return p\n",
        "    # Fallback: go one level up\n",
        "    return here.parent\n",
        "\n",
        "\n",
        "def default_prompt_path() -> str:\n",
        "    env_override = os.getenv(\"PROMPT_FILE\")\n",
        "    if env_override:\n",
        "        return env_override\n",
        "    root = repo_root_from_notebook()\n",
        "    return str(root / \"phase0\" / \"prompts\" / \"caption_generation_prompt.txt\")\n",
        "\n",
        "\n",
        "@dataclass\n",
        "class BedrockConfig:\n",
        "    region_name: str\n",
        "    profile_name: Optional[str]\n"
      ]
    },
    {
      "cell_type": "code",
      "execution_count": 14,
      "metadata": {},
      "outputs": [
        {
          "name": "stdout",
          "output_type": "stream",
          "text": [
            "Using PROMPT_FILE: /Users/dennis/Desktop/Project Blankey/project_blankey/phase0/prompts/caption_generation_prompt.txt\n"
          ]
        }
      ],
      "source": [
        "# Parameters — collaborators can edit these\n",
        "PROMPT_FILE = default_prompt_path()\n",
        "IMAGE_PATH = \"/absolute/path/to/image.jpg\"  # change me\n",
        "CONTEXT = \"sunset beach, chill vibe\"  # optional\n",
        "MAX_TOKENS = 256\n",
        "TEMPERATURE = 0.6\n",
        "PRINT_PAYLOAD = True\n",
        "DRY_RUN = True\n",
        "\n",
        "print(\"Using PROMPT_FILE:\", PROMPT_FILE)\n"
      ]
    },
    {
      "cell_type": "code",
      "execution_count": null,
      "metadata": {},
      "outputs": [],
      "source": [
        "# Build payload\n",
        "assert os.path.isfile(PROMPT_FILE), f\"Prompt not found: {PROMPT_FILE}\"\n",
        "assert os.path.isfile(IMAGE_PATH), f\"Image not found: {IMAGE_PATH}\"\n",
        "\n",
        "image_b64 = read_file_b64(IMAGE_PATH)\n",
        "image_mime = detect_mime_type(IMAGE_PATH)\n",
        "system_prompt, user_text = build_prompts(PROMPT_FILE, CONTEXT)\n",
        "\n",
        "payload = build_messages_payload(\n",
        "    image_b64=image_b64,\n",
        "    image_mime=image_mime,\n",
        "    system_prompt=system_prompt,\n",
        "    user_text=user_text,\n",
        "    max_tokens=MAX_TOKENS,\n",
        "    temperature=TEMPERATURE,\n",
        ")\n",
        "\n",
        "if PRINT_PAYLOAD:\n",
        "    print(json.dumps(payload, indent=2)[:4000])\n"
      ]
    },
    {
      "cell_type": "code",
      "execution_count": null,
      "metadata": {},
      "outputs": [],
      "source": [
        "# Create Bedrock client for this session\n",
        "client = create_bedrock_client(BedrockConfig(region_name=AWS_REGION, profile_name=AWS_PROFILE))\n",
        "print(f\"Bedrock client ready for region={AWS_REGION} profile={AWS_PROFILE}\")\n"
      ]
    },
    {
      "cell_type": "code",
      "execution_count": null,
      "metadata": {},
      "outputs": [],
      "source": [
        "# Invoke Bedrock\n",
        "if not DRY_RUN:\n",
        "    response = call_bedrock(client, payload)\n",
        "    caption = extract_caption(response)\n",
        "    print(caption)\n",
        "else:\n",
        "    print(\"[dry-run] Skipping Bedrock invocation.\")\n"
      ]
    },
    {
      "cell_type": "markdown",
      "metadata": {},
      "source": [
        "## Updated prompt handling and invocation\n",
        "\n",
        "- Reads the entire prompt file and substitutes `{video_description}`.\n",
        "- Sends the filled prompt as the single user text alongside the image.\n",
        "- Creates a Bedrock client inline (no helper function), using your existing AWS config.\n"
      ]
    },
    {
      "cell_type": "code",
      "execution_count": null,
      "metadata": {},
      "outputs": [],
      "source": [
        "# Parameters for the updated flow\n",
        "PROMPT_FILE = \"phase0/prompts/caption_generation_prompt.txt\"  # repo-relative\n",
        "IMAGE_PATH = \"video_cover1.jpg\"  # repo-root relative; included in repo\n",
        "VIDEO_DESCRIPTION = \"A calm sunset over the ocean with surfers heading out.\"\n",
        "AWS_REGION = os.getenv(\"AWS_REGION\") or os.getenv(\"AWS_DEFAULT_REGION\") or \"us-east-1\"\n",
        "MAX_TOKENS = 128\n",
        "TEMPERATURE = 0.3\n",
        "PRINT_PAYLOAD = True\n",
        "DRY_RUN = True\n",
        "\n",
        "print(\"Using PROMPT_FILE:\", PROMPT_FILE)\n",
        "print(\"Using IMAGE_PATH:\", IMAGE_PATH)\n"
      ]
    },
    {
      "cell_type": "code",
      "execution_count": null,
      "metadata": {},
      "outputs": [],
      "source": [
        "# Build prompt text by substituting {video_description}\n",
        "with open(PROMPT_FILE, \"r\", encoding=\"utf-8\") as f:\n",
        "    prompt_template = f.read()\n",
        "\n",
        "filled_prompt = prompt_template.replace(\"{video_description}\", VIDEO_DESCRIPTION)\n",
        "\n",
        "# Prepare image block\n",
        "assert os.path.isfile(IMAGE_PATH), f\"Image not found: {IMAGE_PATH}\"\n",
        "image_b64 = read_file_b64(IMAGE_PATH)\n",
        "image_mime = detect_mime_type(IMAGE_PATH)\n",
        "\n",
        "# Build payload: single user text = filled prompt; include image\n",
        "payload = {\n",
        "    \"anthropic_version\": \"bedrock-2023-05-31\",\n",
        "    \"max_tokens\": MAX_TOKENS,\n",
        "    \"temperature\": TEMPERATURE,\n",
        "    \"messages\": [\n",
        "        {\n",
        "            \"role\": \"user\",\n",
        "            \"content\": [\n",
        "                {\n",
        "                    \"type\": \"image\",\n",
        "                    \"source\": {\n",
        "                        \"type\": \"base64\",\n",
        "                        \"media_type\": image_mime,\n",
        "                        \"data\": image_b64,\n",
        "                    },\n",
        "                },\n",
        "                {\"type\": \"text\", \"text\": filled_prompt},\n",
        "            ],\n",
        "        }\n",
        "    ],\n",
        "}\n",
        "\n",
        "if PRINT_PAYLOAD:\n",
        "    print(json.dumps(payload, indent=2)[:4000])\n"
      ]
    },
    {
      "cell_type": "code",
      "execution_count": null,
      "metadata": {},
      "outputs": [],
      "source": [
        "# Create Bedrock client inline (uses existing AWS config)\n",
        "session = boto3.Session()\n",
        "bedrock = session.client(\"bedrock-runtime\", region_name=AWS_REGION)\n",
        "print(\"Bedrock client created for region:\", AWS_REGION)\n"
      ]
    },
    {
      "cell_type": "code",
      "execution_count": null,
      "metadata": {},
      "outputs": [],
      "source": [
        "# Invoke Bedrock with the built payload\n",
        "if not DRY_RUN:\n",
        "    resp = bedrock.invoke_model(modelId=MODEL_ID, body=json.dumps(payload))\n",
        "    raw = resp.get(\"body\")\n",
        "    text = raw.read().decode(\"utf-8\") if hasattr(raw, \"read\") else str(raw)\n",
        "    response_json = json.loads(text)\n",
        "\n",
        "    # Extract caption\n",
        "    content = response_json.get(\"content\", [])\n",
        "    combined = \"\"\n",
        "    for item in content:\n",
        "        if isinstance(item, dict) and item.get(\"type\") in {\"text\", \"output_text\"}:\n",
        "            combined += item.get(\"text\", \"\")\n",
        "    if not combined:\n",
        "        combined = response_json.get(\"output_text\", \"\")\n",
        "    combined = combined.strip()\n",
        "\n",
        "    try:\n",
        "        parsed = json.loads(combined)\n",
        "        print(parsed.get(\"caption\", combined))\n",
        "    except json.JSONDecodeError:\n",
        "        print(combined)\n",
        "else:\n",
        "    print(\"[dry-run] Skipping Bedrock invocation.\")\n"
      ]
    },
    {
      "cell_type": "markdown",
      "metadata": {},
      "source": [
        "# Phase 0 — Bedrock Claude 3.5 Sonnet Caption Generator\n",
        "- Edit the prompt file at `phase0/prompts/caption_generation_prompt.txt` to iterate without changing code.\n",
        "\n"
      ]
    },
    {
      "cell_type": "code",
      "execution_count": 2,
      "metadata": {},
      "outputs": [],
      "source": [
        "# Setup: installs (skip if already installed)\n",
        "# %pip install -q boto3 botocore\n",
        "\n",
        "import os\n",
        "import json\n",
        "import base64\n",
        "import mimetypes\n",
        "from dataclasses import dataclass\n",
        "from typing import Optional, Tuple\n",
        "\n",
        "import boto3\n",
        "from botocore.exceptions import BotoCoreError, ClientError\n",
        "\n"
      ]
    },
    {
      "cell_type": "code",
      "execution_count": null,
      "metadata": {},
      "outputs": [],
      "source": [
        "# Override: hard-code default prompt path (edit if your path changes)\n",
        "DEFAULT_PROMPT_PATH = \\\n",
        "    \"/Users/dennis/Desktop/Project Blankey/project_blankey/phase0/prompts/caption_generation_prompt.txt\"\n",
        "print(\"Using DEFAULT_PROMPT_PATH:\", DEFAULT_PROMPT_PATH)\n"
      ]
    },
    {
      "cell_type": "code",
      "execution_count": null,
      "metadata": {},
      "outputs": [],
      "source": [
        "def read_file_b64(path: str) -> str:\n",
        "    with open(path, \"rb\") as f:\n",
        "        return base64.b64encode(f.read()).decode(\"utf-8\")\n",
        "\n",
        "\n",
        "def detect_mime_type(path: str) -> str:\n",
        "    guessed, _ = mimetypes.guess_type(path)\n",
        "    return guessed or \"application/octet-stream\"\n",
        "\n",
        "\n",
        "def build_prompts(prompt_file_path: str, context_text: str) -> tuple[str, str]:\n",
        "    with open(prompt_file_path, \"r\", encoding=\"utf-8\") as f:\n",
        "        system_prompt = f.read().strip()\n",
        "\n",
        "    if context_text and context_text.strip():\n",
        "        user_text = (\n",
        "            \"Context from user (optional, may be incomplete):\\n\"\n",
        "            + context_text.strip()\n",
        "            + \"\\n\\nRespond with strictly valid JSON only.\"\n",
        "        )\n",
        "    else:\n",
        "        user_text = \"Respond with strictly valid JSON only.\"\n",
        "\n",
        "    return system_prompt, user_text\n",
        "\n",
        "\n",
        "def build_messages_payload(image_b64: str, image_mime: str, system_prompt: str, user_text: str, max_tokens: int, temperature: float = 0.6) -> dict:\n",
        "    return {\n",
        "        \"anthropic_version\": \"bedrock-2023-05-31\",\n",
        "        \"max_tokens\": max_tokens,\n",
        "        \"temperature\": temperature,\n",
        "        \"system\": system_prompt,\n",
        "        \"messages\": [\n",
        "            {\n",
        "                \"role\": \"user\",\n",
        "                \"content\": [\n",
        "                    {\n",
        "                        \"type\": \"image\",\n",
        "                        \"source\": {\n",
        "                            \"type\": \"base64\",\n",
        "                            \"media_type\": image_mime,\n",
        "                            \"data\": image_b64,\n",
        "                        },\n",
        "                    },\n",
        "                    {\"type\": \"text\", \"text\": user_text},\n",
        "                ],\n",
        "            }\n",
        "        ],\n",
        "    }\n",
        "\n",
        "\n",
        "def create_bedrock_client(config: BedrockConfig):\n",
        "    session = boto3.Session(profile_name=config.profile_name) if config.profile_name else boto3.Session()\n",
        "    return session.client(\"bedrock-runtime\", region_name=config.region_name)\n",
        "\n",
        "\n",
        "def call_bedrock(client, payload: dict) -> dict:\n",
        "    body = json.dumps(payload)\n",
        "    resp = client.invoke_model(modelId=MODEL_ID, body=body)\n",
        "    raw = resp.get(\"body\")\n",
        "    text = raw.read().decode(\"utf-8\") if hasattr(raw, \"read\") else str(raw)\n",
        "    return json.loads(text)\n",
        "\n",
        "\n",
        "def extract_caption(model_response: dict) -> str:\n",
        "    content = model_response.get(\"content\", [])\n",
        "    text = \"\"\n",
        "    for item in content:\n",
        "        if isinstance(item, dict) and item.get(\"type\") in {\"text\", \"output_text\"}:\n",
        "            text += item.get(\"text\", \"\")\n",
        "    if not text:\n",
        "        text = model_response.get(\"output_text\", \"\")\n",
        "    text = text.strip()\n",
        "    try:\n",
        "        parsed = json.loads(text)\n",
        "        cap = parsed.get(\"caption\", \"\").strip()\n",
        "        if cap:\n",
        "            return cap\n",
        "    except json.JSONDecodeError:\n",
        "        pass\n",
        "    return text\n",
        "\n"
      ]
    },
    {
      "cell_type": "code",
      "execution_count": null,
      "metadata": {},
      "outputs": [],
      "source": [
        "# Parameters — edit these\n",
        "AWS_REGION = os.getenv(\"AWS_REGION\") or os.getenv(\"AWS_DEFAULT_REGION\") or \"us-east-1\"\n",
        "AWS_PROFILE = os.getenv(\"AWS_PROFILE\") or None\n",
        "PROMPT_FILE = DEFAULT_PROMPT_PATH  # Or set to a custom path\n",
        "IMAGE_PATH = \"/absolute/path/to/image.jpg\"  # change me\n",
        "CONTEXT = \"sunset beach, chill vibe\"  # optional\n",
        "MAX_TOKENS = 256\n",
        "TEMPERATURE = 0.6\n",
        "PRINT_PAYLOAD = True\n",
        "DRY_RUN = True\n"
      ]
    },
    {
      "cell_type": "code",
      "execution_count": null,
      "metadata": {},
      "outputs": [],
      "source": [
        "# Build payload\n",
        "assert os.path.isfile(PROMPT_FILE), f\"Prompt not found: {PROMPT_FILE}\"\n",
        "assert os.path.isfile(IMAGE_PATH), f\"Image not found: {IMAGE_PATH}\"\n",
        "\n",
        "image_b64 = read_file_b64(IMAGE_PATH)\n",
        "image_mime = detect_mime_type(IMAGE_PATH)\n",
        "system_prompt, user_text = build_prompts(PROMPT_FILE, CONTEXT)\n",
        "\n",
        "payload = build_messages_payload(\n",
        "    image_b64=image_b64,\n",
        "    image_mime=image_mime,\n",
        "    system_prompt=system_prompt,\n",
        "    user_text=user_text,\n",
        "    max_tokens=MAX_TOKENS,\n",
        "    temperature=TEMPERATURE,\n",
        ")\n",
        "\n",
        "if PRINT_PAYLOAD:\n",
        "    print(json.dumps(payload, indent=2)[:4000])  # truncate for display\n"
      ]
    },
    {
      "cell_type": "code",
      "execution_count": null,
      "metadata": {},
      "outputs": [],
      "source": [
        "# Create Bedrock client (optional explicit step)\n",
        "client = create_bedrock_client(BedrockConfig(region_name=AWS_REGION, profile_name=AWS_PROFILE))\n",
        "print(f\"Bedrock client ready for region={AWS_REGION} profile={AWS_PROFILE}\")\n"
      ]
    },
    {
      "cell_type": "code",
      "execution_count": null,
      "metadata": {},
      "outputs": [],
      "source": [
        "# Invoke Bedrock using existing client (recommended for repeated runs)\n",
        "if not DRY_RUN:\n",
        "    assert 'client' in globals(), \"Run the client creation cell first.\"\n",
        "    response = call_bedrock(client, payload)\n",
        "    caption = extract_caption(response)\n",
        "    print(caption)\n",
        "else:\n",
        "    print(\"[dry-run] Skipping Bedrock invocation.\")\n"
      ]
    },
    {
      "cell_type": "code",
      "execution_count": null,
      "metadata": {},
      "outputs": [],
      "source": [
        "# Invoke Bedrock (skip if DRY_RUN)\n",
        "if not DRY_RUN:\n",
        "    client = create_bedrock_client(BedrockConfig(region_name=AWS_REGION, profile_name=AWS_PROFILE))\n",
        "    response = call_bedrock(client, payload)\n",
        "    caption = extract_caption(response)\n",
        "    print(caption)\n",
        "else:\n",
        "    print(\"[dry-run] Skipping Bedrock invocation.\")\n"
      ]
    }
  ],
  "metadata": {
    "kernelspec": {
      "display_name": "venv",
      "language": "python",
      "name": "python3"
    },
    "language_info": {
      "codemirror_mode": {
        "name": "ipython",
        "version": 3
      },
      "file_extension": ".py",
      "mimetype": "text/x-python",
      "name": "python",
      "nbconvert_exporter": "python",
      "pygments_lexer": "ipython3",
      "version": "3.12.4"
    }
  },
  "nbformat": 4,
  "nbformat_minor": 2
}
